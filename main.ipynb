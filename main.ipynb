{
 "cells": [
  {
   "cell_type": "markdown",
   "metadata": {},
   "source": [
    "## Orientações\n",
    "\n",
    "- O código deve ser disponibilizado no GitHub.\n",
    "- Notebooks com respostas devem ser exportados para PDF e anexados no sistema.\n",
    "- Respostas usando o Poe.com devem ser enviadas como print-screens salvos num documento (Google Docs, Word…) e exportados em PDF para submissão no sistema.\n",
    "- Os alunos devem enviar 1 PDF com o notebook e 1 PDF com o documento (Poe.com).\n",
    "\n",
    "### Avaliações Positivas\n",
    "\n",
    "- Código funcional, organizado, comentado e formatado.\n",
    "- Códigos mantidos em repositórios Git.\n",
    "- Questões discursivas serão avaliadas segundo a profundidade dos argumentos.\n",
    "- Exposição de tabelas para argumentação.\n",
    "- Diagramas quando solicitados, para arquiteturas e fluxos de informação.\n",
    "- Plots devem possuir:\n",
    "  - Título\n",
    "  - Labels\n",
    "  - Unidades dos eixos X e Y\n",
    "  - Legendas\n",
    "  - Grid\n",
    "\n",
    "### Avaliações Negativas\n",
    "\n",
    "- Respostas simples para as perguntas discursivas.\n",
    "- Códigos gerados por prompts.\n",
    "- Plots sem capricho, não autoexplicativas.\n",
    "- Desorganização do repositório Git.\n",
    "- Desorganização do material enviado para avaliação.\n",
    "- Envio de arquivos compactados com o repositório.\n",
    "- Material enviado sem o link para o repositório Git."
   ]
  },
  {
   "cell_type": "markdown",
   "metadata": {},
   "source": [
    "# Exercício 1: Princípios de Criação de Prompts Eficazes\n",
    "\n",
    "Alguns princípios são essenciais para a construção de prompts claros e obtenção de respostas precisas. Identifique e explique quais princípios foram utilizados no prompt abaixo:\n",
    "\n",
    "**Prompt**\n",
    "\n",
    "> Como um especialista em turismo, liste 3 atrações turísticas imperdíveis de Paris e forneça uma breve descrição para cada uma delas. Aqui está um exemplo do formato esperado:\n",
    "\n",
    "### Atração 1: Torre Eiffel\n",
    "- **Descrição**: Um dos monumentos mais icônicos do mundo, conhecido por sua estrutura de ferro e vista panorâmica da cidade."
   ]
  },
  {
   "cell_type": "markdown",
   "metadata": {},
   "source": [
    "# Exercício 2: Simulação de Atendimento ao Cliente com Diferentes Personas\n",
    "\n",
    "Vamos simular uma situação de telemarketing onde persona e tom são críticos para o sucesso da interação. Para criarmos uma base de treinamento dos operadores, simule duas respostas para o mesmo atendimento, ora com um cliente agressivo, ora com um cliente tranquilo. \n",
    "\n",
    "**Atendimento**:\n",
    "> “Bom dia, me chamo João e lhe trago hoje uma promoção imperdível sobre a sua assinatura de internet móvel. Por mais 20 reais, consigo lhe oferecer 10GB a mais na sua franquia. Quando podemos estar agendando a sua migração?”\n",
    "\n",
    "- Descreva o comportamento do cliente nas duas situações.\n",
    "- As respostas saíram como o esperado?"
   ]
  },
  {
   "cell_type": "markdown",
   "metadata": {},
   "source": [
    "# Exercício 3: Automação de Mensagens Promocionais com Princípios de Prompting\n",
    "\n",
    "A empresa de turismo viagens.com deseja automatizar o processo de criação de envio de mensagens para clientes, informando-lhes sobre promoções recentes. \n",
    "\n",
    "- Escreva um prompt que contenha os três princípios de:\n",
    "  1. Persona\n",
    "  2. Dados\n",
    "  3. Tom\n",
    "\n",
    "- Execute o prompt usando a sua conta Poe.com e justifique se o LLM respondeu como esperado."
   ]
  },
  {
   "cell_type": "markdown",
   "metadata": {},
   "source": [
    "# Exercício 4: Desenvolvimento de Prompts para Recomendação de Produtos\n",
    "\n",
    "Você está desenvolvendo um sistema de recomendações de produtos para um e-commerce. \n",
    "\n",
    "- Crie dois prompts com base nos princípios de prompting:\n",
    "  1. Um prompt simples\n",
    "  2. Um prompt com exemplos (few-shot prompting)\n",
    "\n",
    "- Utilize o Poe.com para testar os prompts com um LLM, comparando os resultados gerados. Qual dos prompts foi mais eficaz e por quê?"
   ]
  },
  {
   "cell_type": "markdown",
   "metadata": {},
   "source": [
    "# Exercício 5: Listagem de Componentes de Computadores de Alto Desempenho\n",
    "\n",
    "Utilize o Poe.com para criar um prompt simples que faça o LLM listar os principais componentes de um computador de alto desempenho, suas capacidades computacionais (HD, RAM, CPU, GPU…), marcas, modelos e preços.\n",
    "\n",
    "- Teste o prompt e explique se o resultado atendeu às expectativas:\n",
    "  - As marcas e modelos existem?\n",
    "  - As capacidades do computador são de alto desempenho?\n",
    "  - Compare com fontes encontradas na internet."
   ]
  },
  {
   "cell_type": "markdown",
   "metadata": {},
   "source": [
    "# Exercício 6: Análise dos Benefícios da Inteligência Artificial para Pequenas Empresas\n",
    "\n",
    "Desenvolva um prompt simples para que o LLM forneça uma análise rápida sobre os benefícios de usar inteligência artificial em pequenas empresas.\n",
    "\n",
    "- Qual foi o resultado gerado pelo LLM?\n",
    "- Aplique os princípios de prompt para obter resultados mais precisos.\n",
    "- Teste os prompts na sua conta do Poe.com e copie os prompts e respectivas saídas, junto com a explicação do que foi feito entre um prompt e outro."
   ]
  },
  {
   "cell_type": "markdown",
   "metadata": {},
   "source": [
    "# Exercício 7: Resumo de Notícia Utilizando Exemplos em Prompts\n",
    "\n",
    "Usando a API Gemini, crie um notebook que utilize prompts para resumir uma notícia (escolha da página principal de um portal de notícias e copie no notebook).\n",
    "\n",
    "- O prompt deve solicitar um resumo dessa notícia usando o princípio de Exemplos para guiar a resposta do LLM.\n",
    "- Teste o código e avalie a qualidade do resumo gerado."
   ]
  },
  {
   "cell_type": "markdown",
   "metadata": {},
   "source": [
    "# Exercício 8: Identificação de Entidades em Notícias com LLM\n",
    "\n",
    "Uma consultoria lhe contratou para automatizar a descoberta de pessoas mencionadas em notícias de jornal. \n",
    "\n",
    "- Com base no Exercício 7, escolha 3 notícias e monte uma aplicação com um prompt para o LLM identificar menções a diferentes entidades em cada notícia (como pessoas, órgãos públicos, empresas…).\n",
    "- Implemente um notebook para testar o código usando a API do Gemini.\n",
    "- Descreva o prompt, seus resultados e avalie se a resposta do modelo atende às expectativas da consultoria."
   ]
  },
  {
   "cell_type": "markdown",
   "metadata": {},
   "source": [
    "# Exercício 9: Cálculo de Tokens em Texto Longo com API Gemini\n",
    "\n",
    "Implemente um notebook que use a API Gemini para calcular a quantidade de tokens necessários para processar um texto de 5.000 palavras.\n",
    "\n",
    "- Baseie-se no modelo de tokenização utilizado por Gemini e explique como a quantidade de tokens influencia o custo e o desempenho da interação com LLMs em textos longos."
   ]
  },
  {
   "cell_type": "markdown",
   "metadata": {},
   "source": [
    "# Exercício 10: Otimização de Respostas com Role Prompting\n",
    "\n",
    "No Poe.com, aplique a técnica de Role Prompting para otimizar as respostas do LLM Claude3.5.\n",
    "\n",
    "- O cenário é o seguinte: você está desenvolvendo um assistente virtual para uma empresa de consultoria jurídica.\n",
    "- Crie um prompt onde o modelo deve assumir o papel de um advogado especializado em direito contábil ao responder perguntas sobre Imposto de Renda de Pessoa Física.\n",
    "- Avalie a resposta do modelo para uma mesma pergunta sobre IRPF num prompt com e sem Role Prompting."
   ]
  },
  {
   "cell_type": "markdown",
   "metadata": {},
   "source": [
    "# Exercício 11: Estruturação de Prompts com Arquivo YAML\n",
    "\n",
    "Crie um arquivo YAML que represente a estrutura:\n",
    "```yaml\n",
    "{‘roteiro’: {‘atenas’: ‘prompt’, ‘roma’: ‘prompt’}}\n",
    "```\n",
    "\n",
    "onde você deve definir dois prompts: \n",
    "* Um para listar 3 pontos turísticos de Roma, o número anual de visitantes e uma breve descrição de cada um, e outro para fazer o mesmo com Atenas. \n",
    "* Em seguida, crie um notebook que leia esse arquivo YAML e execute os prompts usando o Gemini (uma execução por cidade no roteiro). \n",
    "* Qual foi o resultado? Os pontos turísticos são relevantes e suas descrições são precisas? "
   ]
  },
  {
   "cell_type": "markdown",
   "metadata": {},
   "source": [
    "# Exercício 12 Sistema de Envio de Emails com Dados Turísticos em JSON\n",
    "\n",
    "Queremos montar um sistema que envie emails com os pontos turísticos de cidades num roteiro de viagem. Com base no Exercício 11, altere o prompt para estruturar a saída em formato JSON, com descrições e número de visitantes. Crie um notebook que use a biblioteca pandas para converter esse JSON para dataframe e plot um único gráfico de barras horizontais com todos os pontos turísticos, destacando as cores das barras de acordo com a cidade do ponto turístico (Coliseu, em Roma deve ter uma cor diferente que Parthenon, em Atenas). Coloque as legendas no gráfico."
   ]
  }
 ],
 "metadata": {
  "language_info": {
   "name": "python"
  }
 },
 "nbformat": 4,
 "nbformat_minor": 2
}
